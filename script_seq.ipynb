{
 "cells": [
  {
   "cell_type": "code",
   "execution_count": 1,
   "metadata": {},
   "outputs": [
    {
     "name": "stderr",
     "output_type": "stream",
     "text": [
      "/home/changliu020/anaconda3/envs/cse291/lib/python3.10/site-packages/tqdm/auto.py:22: TqdmWarning: IProgress not found. Please update jupyter and ipywidgets. See https://ipywidgets.readthedocs.io/en/stable/user_install.html\n",
      "  from .autonotebook import tqdm as notebook_tqdm\n"
     ]
    }
   ],
   "source": [
    "from torch.utils.data.dataset import Dataset\n",
    "from torch.utils.data.dataloader import DataLoader\n",
    "from torch.nn.utils import rnn\n",
    "import torch"
   ]
  },
  {
   "cell_type": "code",
   "execution_count": 2,
   "metadata": {},
   "outputs": [],
   "source": [
    "train_x = [torch.tensor([1, 2, 3, 4, 5, 6, 7]),\n",
    "           torch.tensor([2, 3, 4, 5, 6, 7]),\n",
    "           torch.tensor([3, 4, 5, 6, 7]),\n",
    "           torch.tensor([4, 5, 6, 7]),\n",
    "           torch.tensor([5, 6, 7]),\n",
    "           torch.tensor([6, 7]),\n",
    "           torch.tensor([7])]"
   ]
  },
  {
   "cell_type": "code",
   "execution_count": 3,
   "metadata": {},
   "outputs": [],
   "source": [
    "def collate_fn(train_data):\n",
    "    train_data.sort(key=lambda data: len(data), reverse=True)\n",
    "    data_length = [len(data) for data in train_data]\n",
    "    train_data = rnn.pad_sequence(train_data, batch_first=True, padding_value=0)\n",
    "    return train_data, data_length"
   ]
  },
  {
   "cell_type": "code",
   "execution_count": 4,
   "metadata": {},
   "outputs": [],
   "source": [
    "class MyData(Dataset):\n",
    "    def __init__(self, train_x):\n",
    "        self.train_x = train_x\n",
    "\n",
    "    def __len__(self):\n",
    "        return len(self.train_x)\n",
    "\n",
    "    def __getitem__(self, item):\n",
    "        return self.train_x[item].type(torch.float32)\n",
    "        \n",
    "train_data = MyData(train_x)\n",
    "train_dataloader = DataLoader(train_data, batch_size=2, collate_fn=collate_fn)"
   ]
  },
  {
   "cell_type": "code",
   "execution_count": 5,
   "metadata": {},
   "outputs": [
    {
     "name": "stdout",
     "output_type": "stream",
     "text": [
      "tensor([[1., 2., 3., 4., 5., 6., 7.],\n",
      "        [2., 3., 4., 5., 6., 7., 0.]])\n",
      "[7, 6]\n",
      "tensor([[3., 4., 5., 6., 7.],\n",
      "        [4., 5., 6., 7., 0.]])\n",
      "[5, 4]\n",
      "tensor([[5., 6., 7.],\n",
      "        [6., 7., 0.]])\n",
      "[3, 2]\n",
      "tensor([[7.]])\n",
      "[1]\n"
     ]
    }
   ],
   "source": [
    "for data, length in train_dataloader:\n",
    "    print(data)\n",
    "    print(length)"
   ]
  },
  {
   "cell_type": "code",
   "execution_count": 6,
   "metadata": {},
   "outputs": [
    {
     "name": "stdout",
     "output_type": "stream",
     "text": [
      "PackedSequence(data=tensor([1., 2., 2., 3., 3., 4., 4., 5., 5., 6., 6., 7., 7.]), batch_sizes=tensor([2, 2, 2, 2, 2, 2, 1]), sorted_indices=None, unsorted_indices=None)\n",
      "PackedSequence(data=tensor([3., 4., 4., 5., 5., 6., 6., 7., 7.]), batch_sizes=tensor([2, 2, 2, 2, 1]), sorted_indices=None, unsorted_indices=None)\n",
      "PackedSequence(data=tensor([5., 6., 6., 7., 7.]), batch_sizes=tensor([2, 2, 1]), sorted_indices=None, unsorted_indices=None)\n",
      "PackedSequence(data=tensor([7.]), batch_sizes=tensor([1]), sorted_indices=None, unsorted_indices=None)\n"
     ]
    }
   ],
   "source": [
    "for data, length in train_dataloader:\n",
    "    data = rnn.pack_padded_sequence(data, length, batch_first=True)\n",
    "    print(data)"
   ]
  },
  {
   "cell_type": "code",
   "execution_count": 7,
   "metadata": {},
   "outputs": [],
   "source": [
    "net = torch.nn.LSTM(1, 5, batch_first=True)"
   ]
  },
  {
   "cell_type": "code",
   "execution_count": 8,
   "metadata": {},
   "outputs": [],
   "source": [
    "def collate_fn(train_data):\n",
    "    train_data.sort(key=lambda data: len(data), reverse=True)\n",
    "    data_length = [len(data) for data in train_data]\n",
    "    train_data = rnn.pad_sequence(train_data, batch_first=True, padding_value=0)\n",
    "    return train_data.unsqueeze(-1), data_length  # 对train_data增加了一维数据"
   ]
  },
  {
   "cell_type": "code",
   "execution_count": 9,
   "metadata": {},
   "outputs": [
    {
     "data": {
      "text/plain": [
       "LSTM(1, 5, batch_first=True)"
      ]
     },
     "execution_count": 9,
     "metadata": {},
     "output_type": "execute_result"
    }
   ],
   "source": [
    "net"
   ]
  },
  {
   "cell_type": "code",
   "execution_count": 10,
   "metadata": {},
   "outputs": [
    {
     "data": {
      "text/plain": [
       "torch.float32"
      ]
     },
     "execution_count": 10,
     "metadata": {},
     "output_type": "execute_result"
    }
   ],
   "source": [
    "net.all_weights[0][0].dtype"
   ]
  },
  {
   "cell_type": "code",
   "execution_count": 12,
   "metadata": {},
   "outputs": [
    {
     "name": "stdout",
     "output_type": "stream",
     "text": [
      "tensor([[[ 4.6671e-02,  1.1022e-01,  4.1483e-02, -2.7838e-02, -2.2109e-01],\n",
      "         [ 9.1933e-02,  2.5600e-01,  1.0339e-01, -1.1843e-04, -4.0936e-01],\n",
      "         [ 1.1548e-01,  3.5329e-01,  1.1301e-01,  4.9575e-02, -5.3543e-01],\n",
      "         [ 1.1759e-01,  4.0443e-01,  8.6840e-02,  9.6579e-02, -6.2591e-01],\n",
      "         [ 1.0640e-01,  4.3535e-01,  5.7716e-02,  1.2702e-01, -6.9590e-01],\n",
      "         [ 8.9529e-02,  4.5920e-01,  3.6772e-02,  1.3763e-01, -7.4985e-01],\n",
      "         [ 7.1837e-02,  4.7978e-01,  2.3306e-02,  1.3230e-01, -7.9073e-01]],\n",
      "\n",
      "        [[ 7.8933e-02,  2.0046e-01,  7.6023e-02,  2.6744e-03, -3.1016e-01],\n",
      "         [ 1.1227e-01,  3.3568e-01,  1.0565e-01,  4.5169e-02, -4.9430e-01],\n",
      "         [ 1.1674e-01,  3.9973e-01,  8.6080e-02,  9.2831e-02, -6.0613e-01],\n",
      "         [ 1.0612e-01,  4.3384e-01,  5.7799e-02,  1.2490e-01, -6.8535e-01],\n",
      "         [ 8.9417e-02,  4.5855e-01,  3.6828e-02,  1.3659e-01, -7.4397e-01],\n",
      "         [ 7.1787e-02,  4.7945e-01,  2.3325e-02,  1.3184e-01, -7.8733e-01],\n",
      "         [ 0.0000e+00,  0.0000e+00,  0.0000e+00,  0.0000e+00,  0.0000e+00]]],\n",
      "       grad_fn=<TransposeBackward0>)\n",
      "torch.Size([2, 7, 5])\n"
     ]
    }
   ],
   "source": [
    "train_data = MyData(train_x)\n",
    "train_dataloader = DataLoader(train_data, batch_size=2, collate_fn=collate_fn)\n",
    "\n",
    "flag = 0\n",
    "for data, length in train_dataloader:\n",
    "    data = rnn.pack_padded_sequence(data, length, batch_first=True)\n",
    "    # print(data.data.shape)\n",
    "    output, hidden = net(data)\n",
    "    if flag == 0:\n",
    "        output, out_len = rnn.pad_packed_sequence(output, batch_first=True)\n",
    "        print(output)\n",
    "        print(output.shape)\n",
    "        flag = 1"
   ]
  },
  {
   "cell_type": "code",
   "execution_count": null,
   "metadata": {},
   "outputs": [
    {
     "ename": "AttributeError",
     "evalue": "'PackedSequence' object has no attribute 'shape'",
     "output_type": "error",
     "traceback": [
      "\u001b[0;31m---------------------------------------------------------------------------\u001b[0m",
      "\u001b[0;31mAttributeError\u001b[0m                            Traceback (most recent call last)",
      "Cell \u001b[0;32mIn [12], line 1\u001b[0m\n\u001b[0;32m----> 1\u001b[0m output\u001b[39m.\u001b[39;49mshape\n",
      "\u001b[0;31mAttributeError\u001b[0m: 'PackedSequence' object has no attribute 'shape'"
     ]
    }
   ],
   "source": [
    "output.shape"
   ]
  },
  {
   "cell_type": "code",
   "execution_count": null,
   "metadata": {},
   "outputs": [],
   "source": []
  }
 ],
 "metadata": {
  "kernelspec": {
   "display_name": "Python 3.10.4 ('cse291')",
   "language": "python",
   "name": "python3"
  },
  "language_info": {
   "codemirror_mode": {
    "name": "ipython",
    "version": 3
   },
   "file_extension": ".py",
   "mimetype": "text/x-python",
   "name": "python",
   "nbconvert_exporter": "python",
   "pygments_lexer": "ipython3",
   "version": "3.10.4"
  },
  "orig_nbformat": 4,
  "vscode": {
   "interpreter": {
    "hash": "515bf1bbe9e2d68eab55d3855bbb4f7a535ec39520443db8347f586f258d7270"
   }
  }
 },
 "nbformat": 4,
 "nbformat_minor": 2
}
