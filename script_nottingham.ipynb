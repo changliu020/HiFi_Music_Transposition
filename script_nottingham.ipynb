{
 "cells": [
  {
   "cell_type": "code",
   "execution_count": 1,
   "metadata": {},
   "outputs": [],
   "source": [
    "from torch.utils.data.dataloader import DataLoader\n",
    "from torch.nn.utils import rnn\n",
    "import torch\n",
    "from dataset import NottinghamDataset"
   ]
  },
  {
   "cell_type": "code",
   "execution_count": 2,
   "metadata": {},
   "outputs": [],
   "source": [
    "# a, sr_a = librosa.load('data/nottingham-dataset/wav/ashover2.wav', sr=44100)\n",
    "# b, sr_b = torchaudio.load('data/nottingham-dataset/wav/ashover2.wav')"
   ]
  },
  {
   "cell_type": "code",
   "execution_count": 3,
   "metadata": {},
   "outputs": [],
   "source": [
    "# from scipy.io.wavfile import write\n",
    "# import numpy as np\n",
    "\n",
    "# write(\"example.wav\", sr_a, a)"
   ]
  },
  {
   "cell_type": "code",
   "execution_count": 4,
   "metadata": {},
   "outputs": [],
   "source": [
    "def collate_fn(data):\n",
    "    data.sort(key=lambda d: d.shape[0], reverse=True)\n",
    "    data_length = [d.shape[0] for d in data]\n",
    "    data = rnn.pad_sequence(data, batch_first=True, padding_value=0)\n",
    "    return data, data_length"
   ]
  },
  {
   "cell_type": "code",
   "execution_count": 5,
   "metadata": {},
   "outputs": [],
   "source": [
    "dataset = NottinghamDataset('./data/nottingham-dataset/wav', 22050, transformation='mel_spectrogram')\n",
    "dataloader = DataLoader(dataset, batch_size=3, collate_fn=collate_fn)"
   ]
  },
  {
   "cell_type": "code",
   "execution_count": 6,
   "metadata": {},
   "outputs": [
    {
     "data": {
      "text/plain": [
       "torch.Size([1379, 64])"
      ]
     },
     "execution_count": 6,
     "metadata": {},
     "output_type": "execute_result"
    }
   ],
   "source": [
    "dataset[0].shape"
   ]
  },
  {
   "cell_type": "code",
   "execution_count": 7,
   "metadata": {},
   "outputs": [
    {
     "name": "stdout",
     "output_type": "stream",
     "text": [
      "torch.Size([8357, 64])\n"
     ]
    }
   ],
   "source": [
    "for i, (data, length) in enumerate(dataloader):\n",
    "    if i > 0: break\n",
    "    print(rnn.pack_padded_sequence(data, length, batch_first=True).data.shape)"
   ]
  },
  {
   "cell_type": "code",
   "execution_count": 8,
   "metadata": {},
   "outputs": [],
   "source": [
    "model = torch.nn.LSTM(64, 100, batch_first=True)"
   ]
  },
  {
   "cell_type": "code",
   "execution_count": 14,
   "metadata": {},
   "outputs": [
    {
     "name": "stdout",
     "output_type": "stream",
     "text": [
      "torch.Size([3, 4135, 64])\n",
      "torch.Size([3, 4135, 100])\n",
      "tensor([[[-0.0301, -0.0494, -0.0059,  ...,  0.0797, -0.0499, -0.0579],\n",
      "         [-0.1101, -0.0580, -0.0026,  ...,  0.0827, -0.3247, -0.0346],\n",
      "         [-0.1662,  0.2955, -0.0074,  ...,  0.0556, -0.4317, -0.0351],\n",
      "         ...,\n",
      "         [-0.0107, -0.0258,  0.0578,  ..., -0.0588,  0.0342,  0.0494],\n",
      "         [-0.0112, -0.0257,  0.0577,  ..., -0.0583,  0.0344,  0.0496],\n",
      "         [-0.0122, -0.0245,  0.0580,  ..., -0.0579,  0.0340,  0.0490]],\n",
      "\n",
      "        [[-0.0124, -0.0109,  0.0257,  ..., -0.0347,  0.0116,  0.0266],\n",
      "         [-0.0159, -0.0169,  0.0393,  ..., -0.0497,  0.0187,  0.0399],\n",
      "         [-0.0166, -0.0202,  0.0469,  ..., -0.0557,  0.0230,  0.0461],\n",
      "         ...,\n",
      "         [ 0.0000,  0.0000,  0.0000,  ...,  0.0000,  0.0000,  0.0000],\n",
      "         [ 0.0000,  0.0000,  0.0000,  ...,  0.0000,  0.0000,  0.0000],\n",
      "         [ 0.0000,  0.0000,  0.0000,  ...,  0.0000,  0.0000,  0.0000]],\n",
      "\n",
      "        [[-0.0615,  0.1019, -0.0229,  ...,  0.0169, -0.0345,  0.0621],\n",
      "         [-0.3308,  0.2150,  0.0073,  ...,  0.0530, -0.1331,  0.0752],\n",
      "         [-0.4358,  0.1795,  0.0142,  ...,  0.0414, -0.0934,  0.0533],\n",
      "         ...,\n",
      "         [ 0.0000,  0.0000,  0.0000,  ...,  0.0000,  0.0000,  0.0000],\n",
      "         [ 0.0000,  0.0000,  0.0000,  ...,  0.0000,  0.0000,  0.0000],\n",
      "         [ 0.0000,  0.0000,  0.0000,  ...,  0.0000,  0.0000,  0.0000]]],\n",
      "       grad_fn=<TransposeBackward0>)\n"
     ]
    }
   ],
   "source": [
    "flag = 0\n",
    "for i, (data, length) in enumerate(dataloader):\n",
    "    if i > 0: break\n",
    "    data = rnn.pack_padded_sequence(data, length, batch_first=True)\n",
    "    output, hidden = model(data)\n",
    "    if flag == 0:\n",
    "        print(rnn.pad_packed_sequence(data, batch_first=True)[0].shape)\n",
    "        output, out_len = rnn.pad_packed_sequence(output, batch_first=True)\n",
    "        print(output.shape)\n",
    "        print(output)\n",
    "        flag = 1"
   ]
  },
  {
   "cell_type": "code",
   "execution_count": 12,
   "metadata": {},
   "outputs": [
    {
     "data": {
      "text/plain": [
       "torch.Size([1024048, 1])"
      ]
     },
     "execution_count": 12,
     "metadata": {},
     "output_type": "execute_result"
    }
   ],
   "source": [
    "data.data.shape"
   ]
  },
  {
   "cell_type": "code",
   "execution_count": null,
   "metadata": {},
   "outputs": [],
   "source": []
  }
 ],
 "metadata": {
  "kernelspec": {
   "display_name": "Python 3.10.4 ('cse291')",
   "language": "python",
   "name": "python3"
  },
  "language_info": {
   "codemirror_mode": {
    "name": "ipython",
    "version": 3
   },
   "file_extension": ".py",
   "mimetype": "text/x-python",
   "name": "python",
   "nbconvert_exporter": "python",
   "pygments_lexer": "ipython3",
   "version": "3.10.4"
  },
  "orig_nbformat": 4,
  "vscode": {
   "interpreter": {
    "hash": "515bf1bbe9e2d68eab55d3855bbb4f7a535ec39520443db8347f586f258d7270"
   }
  }
 },
 "nbformat": 4,
 "nbformat_minor": 2
}
